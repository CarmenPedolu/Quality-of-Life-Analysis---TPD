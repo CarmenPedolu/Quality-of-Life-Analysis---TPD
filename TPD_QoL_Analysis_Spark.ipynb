{
  "nbformat": 4,
  "nbformat_minor": 0,
  "metadata": {
    "colab": {
      "provenance": []
    },
    "kernelspec": {
      "name": "python3",
      "display_name": "Python 3"
    },
    "language_info": {
      "name": "python"
    }
  },
  "cells": [
    {
      "cell_type": "code",
      "source": [
        "from google.colab import output\n",
        "output.enable_custom_widget_manager()\n",
        "!pip install ipywidgets\n",
        "!pip install opendatasets ipyopenlayers pandas\n",
        "\n",
        "from ipyopenlayers import RasterTileLayer, ZoomSlider, Map\n",
        "from ipyleaflet import Map, Marker, MarkerCluster,Popup\n",
        "from ipywidgets import HTML\n",
        "import opendatasets as od\n",
        "import pandas as pd\n",
        "import geopandas as gpd\n",
        "from geopy.geocoders import Nominatim\n",
        "from shapely.geometry import Point\n",
        "import time\n",
        "import os\n",
        "import kagglehub\n",
        "from tqdm import tqdm\n",
        "import pickle\n",
        "\n",
        "!pip install pyspark opendatasets kagglehub\n",
        "\n",
        "from pyspark.sql import SparkSession\n",
        "from pyspark.sql.functions import col, substring, avg, when, lit, min as spark_min, max as spark_max\n",
        "\n",
        "spark = SparkSession.builder \\\n",
        "    .appName(\"PollutionDataProcessing\") \\\n",
        "    .getOrCreate()\n",
        "\n",
        "\n",
        "from pyspark.sql import SparkSession\n",
        "from pyspark.sql.functions import col, lit, when, avg\n",
        "from pyspark.sql.functions import trim, upper\n",
        "\n",
        "spark = SparkSession.builder.appName(\"QOLI-Spark\").getOrCreate()\n",
        "\n",
        "# 1. Load CSVs into Spark DataFrames\n",
        "pollution_df = spark.read.csv(\"pollution_data_spark_geocode.csv\", header=True, inferSchema=True)\n",
        "qof_df = spark.read.csv(\"qof_data.csv\", header=True, inferSchema=True)\n",
        "col_df = spark.read.csv(\"Cost_of_living_ranked.csv\", header=True, inferSchema=True)\n",
        "crime_df = spark.read.csv(\"Crime_Ranked.csv\", header=True, inferSchema=True)\n",
        "\n"
      ],
      "metadata": {
        "id": "CGFZ6Sihmk2L",
        "colab": {
          "base_uri": "https://localhost:8080/"
        },
        "outputId": "caf9dbca-efd5-4b99-8d0e-974830008d21"
      },
      "execution_count": null,
      "outputs": [
        {
          "output_type": "stream",
          "name": "stdout",
          "text": [
            "Requirement already satisfied: ipywidgets in /usr/local/lib/python3.11/dist-packages (8.1.7)\n",
            "Requirement already satisfied: comm>=0.1.3 in /usr/local/lib/python3.11/dist-packages (from ipywidgets) (0.2.2)\n",
            "Requirement already satisfied: ipython>=6.1.0 in /usr/local/lib/python3.11/dist-packages (from ipywidgets) (7.34.0)\n",
            "Requirement already satisfied: traitlets>=4.3.1 in /usr/local/lib/python3.11/dist-packages (from ipywidgets) (5.7.1)\n",
            "Requirement already satisfied: widgetsnbextension~=4.0.14 in /usr/local/lib/python3.11/dist-packages (from ipywidgets) (4.0.14)\n",
            "Requirement already satisfied: jupyterlab_widgets~=3.0.15 in /usr/local/lib/python3.11/dist-packages (from ipywidgets) (3.0.15)\n",
            "Requirement already satisfied: setuptools>=18.5 in /usr/local/lib/python3.11/dist-packages (from ipython>=6.1.0->ipywidgets) (75.2.0)\n",
            "Requirement already satisfied: jedi>=0.16 in /usr/local/lib/python3.11/dist-packages (from ipython>=6.1.0->ipywidgets) (0.19.2)\n",
            "Requirement already satisfied: decorator in /usr/local/lib/python3.11/dist-packages (from ipython>=6.1.0->ipywidgets) (4.4.2)\n",
            "Requirement already satisfied: pickleshare in /usr/local/lib/python3.11/dist-packages (from ipython>=6.1.0->ipywidgets) (0.7.5)\n",
            "Requirement already satisfied: prompt-toolkit!=3.0.0,!=3.0.1,<3.1.0,>=2.0.0 in /usr/local/lib/python3.11/dist-packages (from ipython>=6.1.0->ipywidgets) (3.0.51)\n",
            "Requirement already satisfied: pygments in /usr/local/lib/python3.11/dist-packages (from ipython>=6.1.0->ipywidgets) (2.19.1)\n",
            "Requirement already satisfied: backcall in /usr/local/lib/python3.11/dist-packages (from ipython>=6.1.0->ipywidgets) (0.2.0)\n",
            "Requirement already satisfied: matplotlib-inline in /usr/local/lib/python3.11/dist-packages (from ipython>=6.1.0->ipywidgets) (0.1.7)\n",
            "Requirement already satisfied: pexpect>4.3 in /usr/local/lib/python3.11/dist-packages (from ipython>=6.1.0->ipywidgets) (4.9.0)\n",
            "Requirement already satisfied: parso<0.9.0,>=0.8.4 in /usr/local/lib/python3.11/dist-packages (from jedi>=0.16->ipython>=6.1.0->ipywidgets) (0.8.4)\n",
            "Requirement already satisfied: ptyprocess>=0.5 in /usr/local/lib/python3.11/dist-packages (from pexpect>4.3->ipython>=6.1.0->ipywidgets) (0.7.0)\n",
            "Requirement already satisfied: wcwidth in /usr/local/lib/python3.11/dist-packages (from prompt-toolkit!=3.0.0,!=3.0.1,<3.1.0,>=2.0.0->ipython>=6.1.0->ipywidgets) (0.2.13)\n",
            "Requirement already satisfied: opendatasets in /usr/local/lib/python3.11/dist-packages (0.1.22)\n",
            "Requirement already satisfied: ipyopenlayers in /usr/local/lib/python3.11/dist-packages (0.2.1)\n",
            "Requirement already satisfied: pandas in /usr/local/lib/python3.11/dist-packages (2.2.2)\n",
            "Requirement already satisfied: tqdm in /usr/local/lib/python3.11/dist-packages (from opendatasets) (4.67.1)\n",
            "Requirement already satisfied: kaggle in /usr/local/lib/python3.11/dist-packages (from opendatasets) (1.7.4.5)\n",
            "Requirement already satisfied: click in /usr/local/lib/python3.11/dist-packages (from opendatasets) (8.2.1)\n",
            "Requirement already satisfied: ipywidgets>=8.0.0 in /usr/local/lib/python3.11/dist-packages (from ipyopenlayers) (8.1.7)\n",
            "Requirement already satisfied: traitlets in /usr/local/lib/python3.11/dist-packages (from ipyopenlayers) (5.7.1)\n",
            "Requirement already satisfied: numpy>=1.23.2 in /usr/local/lib/python3.11/dist-packages (from pandas) (2.0.2)\n",
            "Requirement already satisfied: python-dateutil>=2.8.2 in /usr/local/lib/python3.11/dist-packages (from pandas) (2.9.0.post0)\n",
            "Requirement already satisfied: pytz>=2020.1 in /usr/local/lib/python3.11/dist-packages (from pandas) (2025.2)\n",
            "Requirement already satisfied: tzdata>=2022.7 in /usr/local/lib/python3.11/dist-packages (from pandas) (2025.2)\n",
            "Requirement already satisfied: comm>=0.1.3 in /usr/local/lib/python3.11/dist-packages (from ipywidgets>=8.0.0->ipyopenlayers) (0.2.2)\n",
            "Requirement already satisfied: ipython>=6.1.0 in /usr/local/lib/python3.11/dist-packages (from ipywidgets>=8.0.0->ipyopenlayers) (7.34.0)\n",
            "Requirement already satisfied: widgetsnbextension~=4.0.14 in /usr/local/lib/python3.11/dist-packages (from ipywidgets>=8.0.0->ipyopenlayers) (4.0.14)\n",
            "Requirement already satisfied: jupyterlab_widgets~=3.0.15 in /usr/local/lib/python3.11/dist-packages (from ipywidgets>=8.0.0->ipyopenlayers) (3.0.15)\n",
            "Requirement already satisfied: six>=1.5 in /usr/local/lib/python3.11/dist-packages (from python-dateutil>=2.8.2->pandas) (1.17.0)\n",
            "Requirement already satisfied: bleach in /usr/local/lib/python3.11/dist-packages (from kaggle->opendatasets) (6.2.0)\n",
            "Requirement already satisfied: certifi>=14.05.14 in /usr/local/lib/python3.11/dist-packages (from kaggle->opendatasets) (2025.4.26)\n",
            "Requirement already satisfied: charset-normalizer in /usr/local/lib/python3.11/dist-packages (from kaggle->opendatasets) (3.4.2)\n",
            "Requirement already satisfied: idna in /usr/local/lib/python3.11/dist-packages (from kaggle->opendatasets) (3.10)\n",
            "Requirement already satisfied: protobuf in /usr/local/lib/python3.11/dist-packages (from kaggle->opendatasets) (5.29.5)\n",
            "Requirement already satisfied: python-slugify in /usr/local/lib/python3.11/dist-packages (from kaggle->opendatasets) (8.0.4)\n",
            "Requirement already satisfied: requests in /usr/local/lib/python3.11/dist-packages (from kaggle->opendatasets) (2.32.3)\n",
            "Requirement already satisfied: setuptools>=21.0.0 in /usr/local/lib/python3.11/dist-packages (from kaggle->opendatasets) (75.2.0)\n",
            "Requirement already satisfied: text-unidecode in /usr/local/lib/python3.11/dist-packages (from kaggle->opendatasets) (1.3)\n",
            "Requirement already satisfied: urllib3>=1.15.1 in /usr/local/lib/python3.11/dist-packages (from kaggle->opendatasets) (2.4.0)\n",
            "Requirement already satisfied: webencodings in /usr/local/lib/python3.11/dist-packages (from kaggle->opendatasets) (0.5.1)\n",
            "Requirement already satisfied: jedi>=0.16 in /usr/local/lib/python3.11/dist-packages (from ipython>=6.1.0->ipywidgets>=8.0.0->ipyopenlayers) (0.19.2)\n",
            "Requirement already satisfied: decorator in /usr/local/lib/python3.11/dist-packages (from ipython>=6.1.0->ipywidgets>=8.0.0->ipyopenlayers) (4.4.2)\n",
            "Requirement already satisfied: pickleshare in /usr/local/lib/python3.11/dist-packages (from ipython>=6.1.0->ipywidgets>=8.0.0->ipyopenlayers) (0.7.5)\n",
            "Requirement already satisfied: prompt-toolkit!=3.0.0,!=3.0.1,<3.1.0,>=2.0.0 in /usr/local/lib/python3.11/dist-packages (from ipython>=6.1.0->ipywidgets>=8.0.0->ipyopenlayers) (3.0.51)\n",
            "Requirement already satisfied: pygments in /usr/local/lib/python3.11/dist-packages (from ipython>=6.1.0->ipywidgets>=8.0.0->ipyopenlayers) (2.19.1)\n",
            "Requirement already satisfied: backcall in /usr/local/lib/python3.11/dist-packages (from ipython>=6.1.0->ipywidgets>=8.0.0->ipyopenlayers) (0.2.0)\n",
            "Requirement already satisfied: matplotlib-inline in /usr/local/lib/python3.11/dist-packages (from ipython>=6.1.0->ipywidgets>=8.0.0->ipyopenlayers) (0.1.7)\n",
            "Requirement already satisfied: pexpect>4.3 in /usr/local/lib/python3.11/dist-packages (from ipython>=6.1.0->ipywidgets>=8.0.0->ipyopenlayers) (4.9.0)\n",
            "Requirement already satisfied: parso<0.9.0,>=0.8.4 in /usr/local/lib/python3.11/dist-packages (from jedi>=0.16->ipython>=6.1.0->ipywidgets>=8.0.0->ipyopenlayers) (0.8.4)\n",
            "Requirement already satisfied: ptyprocess>=0.5 in /usr/local/lib/python3.11/dist-packages (from pexpect>4.3->ipython>=6.1.0->ipywidgets>=8.0.0->ipyopenlayers) (0.7.0)\n",
            "Requirement already satisfied: wcwidth in /usr/local/lib/python3.11/dist-packages (from prompt-toolkit!=3.0.0,!=3.0.1,<3.1.0,>=2.0.0->ipython>=6.1.0->ipywidgets>=8.0.0->ipyopenlayers) (0.2.13)\n",
            "Requirement already satisfied: pyspark in /usr/local/lib/python3.11/dist-packages (3.5.1)\n",
            "Requirement already satisfied: opendatasets in /usr/local/lib/python3.11/dist-packages (0.1.22)\n",
            "Requirement already satisfied: kagglehub in /usr/local/lib/python3.11/dist-packages (0.3.12)\n",
            "Requirement already satisfied: py4j==0.10.9.7 in /usr/local/lib/python3.11/dist-packages (from pyspark) (0.10.9.7)\n",
            "Requirement already satisfied: tqdm in /usr/local/lib/python3.11/dist-packages (from opendatasets) (4.67.1)\n",
            "Requirement already satisfied: kaggle in /usr/local/lib/python3.11/dist-packages (from opendatasets) (1.7.4.5)\n",
            "Requirement already satisfied: click in /usr/local/lib/python3.11/dist-packages (from opendatasets) (8.2.1)\n",
            "Requirement already satisfied: packaging in /usr/local/lib/python3.11/dist-packages (from kagglehub) (24.2)\n",
            "Requirement already satisfied: pyyaml in /usr/local/lib/python3.11/dist-packages (from kagglehub) (6.0.2)\n",
            "Requirement already satisfied: requests in /usr/local/lib/python3.11/dist-packages (from kagglehub) (2.32.3)\n",
            "Requirement already satisfied: bleach in /usr/local/lib/python3.11/dist-packages (from kaggle->opendatasets) (6.2.0)\n",
            "Requirement already satisfied: certifi>=14.05.14 in /usr/local/lib/python3.11/dist-packages (from kaggle->opendatasets) (2025.4.26)\n",
            "Requirement already satisfied: charset-normalizer in /usr/local/lib/python3.11/dist-packages (from kaggle->opendatasets) (3.4.2)\n",
            "Requirement already satisfied: idna in /usr/local/lib/python3.11/dist-packages (from kaggle->opendatasets) (3.10)\n",
            "Requirement already satisfied: protobuf in /usr/local/lib/python3.11/dist-packages (from kaggle->opendatasets) (5.29.5)\n",
            "Requirement already satisfied: python-dateutil>=2.5.3 in /usr/local/lib/python3.11/dist-packages (from kaggle->opendatasets) (2.9.0.post0)\n",
            "Requirement already satisfied: python-slugify in /usr/local/lib/python3.11/dist-packages (from kaggle->opendatasets) (8.0.4)\n",
            "Requirement already satisfied: setuptools>=21.0.0 in /usr/local/lib/python3.11/dist-packages (from kaggle->opendatasets) (75.2.0)\n",
            "Requirement already satisfied: six>=1.10 in /usr/local/lib/python3.11/dist-packages (from kaggle->opendatasets) (1.17.0)\n",
            "Requirement already satisfied: text-unidecode in /usr/local/lib/python3.11/dist-packages (from kaggle->opendatasets) (1.3)\n",
            "Requirement already satisfied: urllib3>=1.15.1 in /usr/local/lib/python3.11/dist-packages (from kaggle->opendatasets) (2.4.0)\n",
            "Requirement already satisfied: webencodings in /usr/local/lib/python3.11/dist-packages (from kaggle->opendatasets) (0.5.1)\n"
          ]
        }
      ]
    },
    {
      "cell_type": "code",
      "source": [
        "\n",
        "# 2. Select and rename relevant columns\n",
        "pollution_df = pollution_df.filter(col(\"Granularity\") == \"yearly\") \\\n",
        "    .select(col(\"State\").alias(\"state\"), col(\"County\").alias(\"county\"),\n",
        "            col(\"ranking_final_value\").alias(\"pollution_ranking\"),\n",
        "            col(\"Year\").alias(\"year\"), col(\"geometry\"))\n",
        "\n",
        "qof_df = qof_df.select(col(\"state\"), col(\"county\"),\n",
        "                       col(\"ranking\").alias(\"unemployment_ranking\"),\n",
        "                       col(\"geometry\"))\n",
        "\n",
        "col_df = col_df.select(\"state\", \"county\", \"cost_of_living_ranking\", \"geometry\")\n",
        "\n",
        "crime_df = crime_df.select(\n",
        "    col(\"state\"), col(\"county\"), col(\"year\"), col(\"crime_ranking\"), col(\"geometry\")\n",
        ")"
      ],
      "metadata": {
        "id": "mGtBZmpHCWqX"
      },
      "execution_count": null,
      "outputs": []
    },
    {
      "cell_type": "code",
      "source": [
        "\n",
        "# 3. Normalize casing and whitespace\n",
        "for df_name in ['pollution_df', 'qof_df', 'col_df', 'crime_df']:\n",
        "    df = eval(df_name)\n",
        "    for column in ['state', 'county']:\n",
        "        df = df.withColumn(column, trim(upper(col(column).cast(\"string\"))))\n",
        "    globals()[df_name] = df\n",
        "\n",
        "# 4. Merge all datasets\n",
        "merged = pollution_df.join(qof_df, on=[\"state\", \"county\", \"geometry\"], how=\"outer\") \\\n",
        "    .join(col_df, on=[\"state\", \"county\", \"geometry\"], how=\"outer\") \\\n",
        "    .join(crime_df, on=[\"state\", \"county\", \"year\", \"geometry\"], how=\"outer\")\n",
        "\n",
        "# 5. Fill missing values with group averages, then with overall average\n",
        "for col_name in [\"pollution_ranking\", \"unemployment_ranking\", \"cost_of_living_ranking\", \"crime_ranking\"]:\n",
        "    # Compute averages\n",
        "    county_avg = merged.groupBy(\"county\").agg(avg(col_name).alias(\"county_avg\"))\n",
        "    state_avg = merged.groupBy(\"state\").agg(avg(col_name).alias(\"state_avg\"))\n",
        "    overall_avg = merged.agg(avg(col_name).alias(\"overall_avg\")).collect()[0][\"overall_avg\"]\n",
        "\n",
        "    # Join and fill nulls step-by-step\n",
        "    merged = merged.join(county_avg, on=\"county\", how=\"left\")\n",
        "    merged = merged.withColumn(col_name, when(col(col_name).isNull(), col(\"county_avg\")).otherwise(col(col_name)))\n",
        "    merged = merged.drop(\"county_avg\")\n",
        "\n",
        "    merged = merged.join(state_avg, on=\"state\", how=\"left\")\n",
        "    merged = merged.withColumn(col_name, when(col(col_name).isNull(), col(\"state_avg\")).otherwise(col(col_name)))\n",
        "    merged = merged.drop(\"state_avg\")\n",
        "\n",
        "    merged = merged.withColumn(col_name, when(col(col_name).isNull(), lit(overall_avg)).otherwise(col(col_name)))\n",
        "\n",
        "# 6. Fill year if missing\n",
        "merged = merged.withColumn(\"year\", when(col(\"year\").isNull(), lit(2022)).otherwise(col(\"year\").cast(\"int\")))\n"
      ],
      "metadata": {
        "id": "chIhJPSGCgh3"
      },
      "execution_count": null,
      "outputs": []
    },
    {
      "cell_type": "code",
      "source": [
        "\n",
        "# 7. Compute QOLI (using assumptions as discussed)\n",
        "merged = merged.withColumn(\"QOLI\",\n",
        "    0.389 * lit(1) +  # I_pp\n",
        "    0.128 * col(\"crime_ranking\") +  # I_safety\n",
        "    0.103 * lit(1) +  # I_health\n",
        "    0.0855 * lit(1) +  # I_climate\n",
        "    0.2564 * col(\"unemployment_ranking\") +  # I_house_price\n",
        "    0.0256 * col(\"cost_of_living_ranking\") +  # I_cost_liv\n",
        "    0.128 * lit(1) +  # I_traffic\n",
        "    0.1709 * col(\"pollution_ranking\")  # I_pollution\n",
        ")\n"
      ],
      "metadata": {
        "id": "ILh2PIjNE4-R"
      },
      "execution_count": null,
      "outputs": []
    },
    {
      "cell_type": "code",
      "source": [
        "# 8. Select final columns\n",
        "final_df = merged.select(\n",
        "    \"state\", \"county\", \"geometry\", \"year\",\n",
        "    \"pollution_ranking\", \"unemployment_ranking\",\n",
        "    \"cost_of_living_ranking\", \"crime_ranking\", \"QOLI\"\n",
        ")\n",
        "\n",
        "# 9. Save to CSV\n",
        "final_df.write.csv(\"final_df_spark.csv\", header=True, mode=\"overwrite\")"
      ],
      "metadata": {
        "id": "qCA1nw9fZopf"
      },
      "execution_count": null,
      "outputs": []
    },
    {
      "cell_type": "code",
      "source": [],
      "metadata": {
        "id": "u47LyzkzcPui"
      },
      "execution_count": null,
      "outputs": []
    }
  ]
}